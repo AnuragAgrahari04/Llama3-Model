{
  "nbformat": 4,
  "nbformat_minor": 0,
  "metadata": {
    "colab": {
      "provenance": []
    },
    "kernelspec": {
      "name": "python3",
      "display_name": "Python 3"
    },
    "language_info": {
      "name": "python"
    }
  },
  "cells": [
    {
      "cell_type": "markdown",
      "source": [
        "**Accessing Llama 3.1 from Groq**\n",
        "\n"
      ],
      "metadata": {
        "id": "5h-w5h0OnTDI"
      }
    },
    {
      "cell_type": "code",
      "execution_count": null,
      "metadata": {
        "colab": {
          "base_uri": "https://localhost:8080/"
        },
        "id": "AfWBshoT6YbN",
        "outputId": "aceea39f-d2fe-456f-a473-01d7b085d06e"
      },
      "outputs": [
        {
          "output_type": "stream",
          "name": "stdout",
          "text": [
            "Collecting groq==0.31.1\n",
            "  Downloading groq-0.31.1-py3-none-any.whl.metadata (16 kB)\n",
            "Requirement already satisfied: anyio<5,>=3.5.0 in /usr/local/lib/python3.12/dist-packages (from groq==0.31.1) (4.10.0)\n",
            "Requirement already satisfied: distro<2,>=1.7.0 in /usr/local/lib/python3.12/dist-packages (from groq==0.31.1) (1.9.0)\n",
            "Requirement already satisfied: httpx<1,>=0.23.0 in /usr/local/lib/python3.12/dist-packages (from groq==0.31.1) (0.28.1)\n",
            "Requirement already satisfied: pydantic<3,>=1.9.0 in /usr/local/lib/python3.12/dist-packages (from groq==0.31.1) (2.11.7)\n",
            "Requirement already satisfied: sniffio in /usr/local/lib/python3.12/dist-packages (from groq==0.31.1) (1.3.1)\n",
            "Requirement already satisfied: typing-extensions<5,>=4.10 in /usr/local/lib/python3.12/dist-packages (from groq==0.31.1) (4.15.0)\n",
            "Requirement already satisfied: idna>=2.8 in /usr/local/lib/python3.12/dist-packages (from anyio<5,>=3.5.0->groq==0.31.1) (3.10)\n",
            "Requirement already satisfied: certifi in /usr/local/lib/python3.12/dist-packages (from httpx<1,>=0.23.0->groq==0.31.1) (2025.8.3)\n",
            "Requirement already satisfied: httpcore==1.* in /usr/local/lib/python3.12/dist-packages (from httpx<1,>=0.23.0->groq==0.31.1) (1.0.9)\n",
            "Requirement already satisfied: h11>=0.16 in /usr/local/lib/python3.12/dist-packages (from httpcore==1.*->httpx<1,>=0.23.0->groq==0.31.1) (0.16.0)\n",
            "Requirement already satisfied: annotated-types>=0.6.0 in /usr/local/lib/python3.12/dist-packages (from pydantic<3,>=1.9.0->groq==0.31.1) (0.7.0)\n",
            "Requirement already satisfied: pydantic-core==2.33.2 in /usr/local/lib/python3.12/dist-packages (from pydantic<3,>=1.9.0->groq==0.31.1) (2.33.2)\n",
            "Requirement already satisfied: typing-inspection>=0.4.0 in /usr/local/lib/python3.12/dist-packages (from pydantic<3,>=1.9.0->groq==0.31.1) (0.4.1)\n",
            "Downloading groq-0.31.1-py3-none-any.whl (134 kB)\n",
            "\u001b[?25l   \u001b[90m━━━━━━━━━━━━━━━━━━━━━━━━━━━━━━━━━━━━━━━━\u001b[0m \u001b[32m0.0/134.9 kB\u001b[0m \u001b[31m?\u001b[0m eta \u001b[36m-:--:--\u001b[0m\r\u001b[2K   \u001b[90m━━━━━━━━━━━━━━━━━━━━━━━━━━━━━━━━━━━━━━━━\u001b[0m \u001b[32m134.9/134.9 kB\u001b[0m \u001b[31m10.3 MB/s\u001b[0m eta \u001b[36m0:00:00\u001b[0m\n",
            "\u001b[?25hInstalling collected packages: groq\n",
            "Successfully installed groq-0.31.1\n"
          ]
        }
      ],
      "source": [
        "!pip install groq==0.31.1"
      ]
    },
    {
      "cell_type": "code",
      "source": [
        "import os"
      ],
      "metadata": {
        "id": "KXU4nXLc6hkO"
      },
      "execution_count": null,
      "outputs": []
    },
    {
      "cell_type": "code",
      "source": [
        "os.environ[\"GROQ_API_KEY\"] = \"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\""
      ],
      "metadata": {
        "id": "8SowYXCg67JN"
      },
      "execution_count": null,
      "outputs": []
    },
    {
      "cell_type": "code",
      "source": [
        "from groq import Groq"
      ],
      "metadata": {
        "id": "3u12uFus6_hv"
      },
      "execution_count": null,
      "outputs": []
    },
    {
      "cell_type": "code",
      "source": [
        "client = Groq()"
      ],
      "metadata": {
        "id": "-A1P83B1mapt"
      },
      "execution_count": null,
      "outputs": []
    },
    {
      "cell_type": "code",
      "source": [
        "response = client.chat.completions.create(\n",
        "    messages = [\n",
        "        {\"role\": \"system\", \"content\": \"Give me the first 20 terms of fibonacci series\"}\n",
        "    ],\n",
        "    model = \"llama-3.1-8b-instant\"\n",
        ")"
      ],
      "metadata": {
        "id": "VRwEeTQsmcYB"
      },
      "execution_count": null,
      "outputs": []
    },
    {
      "cell_type": "code",
      "source": [
        "response"
      ],
      "metadata": {
        "colab": {
          "base_uri": "https://localhost:8080/"
        },
        "id": "Nwe34IOwm7Hc",
        "outputId": "84043de4-0592-4e7b-cc99-04693a0cea06"
      },
      "execution_count": null,
      "outputs": [
        {
          "output_type": "execute_result",
          "data": {
            "text/plain": [
              "ChatCompletion(id='chatcmpl-f287e6df-f6d7-4bd0-987a-86804af887b6', choices=[Choice(finish_reason='stop', index=0, logprobs=None, message=ChatCompletionMessage(content='The Fibonacci sequence is a series of numbers in which each number is the sum of the two preceding ones, usually starting with 0 and 1. Here are the first 20 terms of the Fibonacci sequence:\\n\\n1. 0\\n2. 1\\n3. 1 (0 + 1)\\n4. 2 (1 + 1)\\n5. 3 (1 + 2)\\n6. 5 (2 + 3)\\n7. 8 (3 + 5)\\n8. 13 (5 + 8)\\n9. 21 (8 + 13)\\n10. 34 (13 + 21)\\n11. 55 (21 + 34)\\n12. 89 (34 + 55)\\n13. 144 (55 + 89)\\n14. 233 (89 + 144)\\n15. 377 (144 + 233)\\n16. 610 (233 + 377)\\n17. 985 (377 + 610)\\n18. 1597 (610 + 985)\\n19. 2584 (985 + 1597)\\n20. 4181 (1597 + 2584)', role='assistant', executed_tools=None, function_call=None, reasoning=None, tool_calls=None))], created=1757171920, model='llama-3.1-8b-instant', object='chat.completion', system_fingerprint='fp_2115512ff6', usage=CompletionUsage(completion_tokens=239, prompt_tokens=40, total_tokens=279, completion_time=0.215086424, prompt_time=0.178051661, queue_time=0.224850639, total_time=0.393138085), usage_breakdown=None, x_groq={'id': 'req_01k4fsqb5wfwrvfsjgqd40jf61'}, service_tier='on_demand')"
            ]
          },
          "metadata": {},
          "execution_count": 7
        }
      ]
    },
    {
      "cell_type": "code",
      "source": [
        "output = response.choices[0].message.content\n",
        "print(output)"
      ],
      "metadata": {
        "colab": {
          "base_uri": "https://localhost:8080/"
        },
        "id": "veUShXVsm-08",
        "outputId": "7a30f3dc-7ea4-46a1-df43-9bdfb1646c61"
      },
      "execution_count": null,
      "outputs": [
        {
          "output_type": "stream",
          "name": "stdout",
          "text": [
            "The Fibonacci sequence is a series of numbers in which each number is the sum of the two preceding ones, usually starting with 0 and 1. Here are the first 20 terms of the Fibonacci sequence:\n",
            "\n",
            "1. 0\n",
            "2. 1\n",
            "3. 1 (0 + 1)\n",
            "4. 2 (1 + 1)\n",
            "5. 3 (1 + 2)\n",
            "6. 5 (2 + 3)\n",
            "7. 8 (3 + 5)\n",
            "8. 13 (5 + 8)\n",
            "9. 21 (8 + 13)\n",
            "10. 34 (13 + 21)\n",
            "11. 55 (21 + 34)\n",
            "12. 89 (34 + 55)\n",
            "13. 144 (55 + 89)\n",
            "14. 233 (89 + 144)\n",
            "15. 377 (144 + 233)\n",
            "16. 610 (233 + 377)\n",
            "17. 985 (377 + 610)\n",
            "18. 1597 (610 + 985)\n",
            "19. 2584 (985 + 1597)\n",
            "20. 4181 (1597 + 2584)\n"
          ]
        }
      ]
    },
    {
      "cell_type": "markdown",
      "source": [
        "**Accessing Llama 3.1 from langchain-Groq**"
      ],
      "metadata": {
        "id": "Lmg3H6rEnfRL"
      }
    },
    {
      "cell_type": "code",
      "source": [
        "!pip install langchain-groq==0.3.7"
      ],
      "metadata": {
        "colab": {
          "base_uri": "https://localhost:8080/"
        },
        "id": "FuyDGAvBnI5T",
        "outputId": "b9063fba-eb81-46e3-ad12-985ee51601b0"
      },
      "execution_count": null,
      "outputs": [
        {
          "output_type": "stream",
          "name": "stdout",
          "text": [
            "Collecting langchain-groq==0.3.7\n",
            "  Downloading langchain_groq-0.3.7-py3-none-any.whl.metadata (2.6 kB)\n",
            "Requirement already satisfied: langchain-core<1.0.0,>=0.3.72 in /usr/local/lib/python3.12/dist-packages (from langchain-groq==0.3.7) (0.3.75)\n",
            "Requirement already satisfied: groq<1,>=0.30.0 in /usr/local/lib/python3.12/dist-packages (from langchain-groq==0.3.7) (0.31.1)\n",
            "Requirement already satisfied: anyio<5,>=3.5.0 in /usr/local/lib/python3.12/dist-packages (from groq<1,>=0.30.0->langchain-groq==0.3.7) (4.10.0)\n",
            "Requirement already satisfied: distro<2,>=1.7.0 in /usr/local/lib/python3.12/dist-packages (from groq<1,>=0.30.0->langchain-groq==0.3.7) (1.9.0)\n",
            "Requirement already satisfied: httpx<1,>=0.23.0 in /usr/local/lib/python3.12/dist-packages (from groq<1,>=0.30.0->langchain-groq==0.3.7) (0.28.1)\n",
            "Requirement already satisfied: pydantic<3,>=1.9.0 in /usr/local/lib/python3.12/dist-packages (from groq<1,>=0.30.0->langchain-groq==0.3.7) (2.11.7)\n",
            "Requirement already satisfied: sniffio in /usr/local/lib/python3.12/dist-packages (from groq<1,>=0.30.0->langchain-groq==0.3.7) (1.3.1)\n",
            "Requirement already satisfied: typing-extensions<5,>=4.10 in /usr/local/lib/python3.12/dist-packages (from groq<1,>=0.30.0->langchain-groq==0.3.7) (4.15.0)\n",
            "Requirement already satisfied: langsmith>=0.3.45 in /usr/local/lib/python3.12/dist-packages (from langchain-core<1.0.0,>=0.3.72->langchain-groq==0.3.7) (0.4.23)\n",
            "Requirement already satisfied: tenacity!=8.4.0,<10.0.0,>=8.1.0 in /usr/local/lib/python3.12/dist-packages (from langchain-core<1.0.0,>=0.3.72->langchain-groq==0.3.7) (8.5.0)\n",
            "Requirement already satisfied: jsonpatch<2.0,>=1.33 in /usr/local/lib/python3.12/dist-packages (from langchain-core<1.0.0,>=0.3.72->langchain-groq==0.3.7) (1.33)\n",
            "Requirement already satisfied: PyYAML>=5.3 in /usr/local/lib/python3.12/dist-packages (from langchain-core<1.0.0,>=0.3.72->langchain-groq==0.3.7) (6.0.2)\n",
            "Requirement already satisfied: packaging>=23.2 in /usr/local/lib/python3.12/dist-packages (from langchain-core<1.0.0,>=0.3.72->langchain-groq==0.3.7) (25.0)\n",
            "Requirement already satisfied: idna>=2.8 in /usr/local/lib/python3.12/dist-packages (from anyio<5,>=3.5.0->groq<1,>=0.30.0->langchain-groq==0.3.7) (3.10)\n",
            "Requirement already satisfied: certifi in /usr/local/lib/python3.12/dist-packages (from httpx<1,>=0.23.0->groq<1,>=0.30.0->langchain-groq==0.3.7) (2025.8.3)\n",
            "Requirement already satisfied: httpcore==1.* in /usr/local/lib/python3.12/dist-packages (from httpx<1,>=0.23.0->groq<1,>=0.30.0->langchain-groq==0.3.7) (1.0.9)\n",
            "Requirement already satisfied: h11>=0.16 in /usr/local/lib/python3.12/dist-packages (from httpcore==1.*->httpx<1,>=0.23.0->groq<1,>=0.30.0->langchain-groq==0.3.7) (0.16.0)\n",
            "Requirement already satisfied: jsonpointer>=1.9 in /usr/local/lib/python3.12/dist-packages (from jsonpatch<2.0,>=1.33->langchain-core<1.0.0,>=0.3.72->langchain-groq==0.3.7) (3.0.0)\n",
            "Requirement already satisfied: orjson>=3.9.14 in /usr/local/lib/python3.12/dist-packages (from langsmith>=0.3.45->langchain-core<1.0.0,>=0.3.72->langchain-groq==0.3.7) (3.11.3)\n",
            "Requirement already satisfied: requests-toolbelt>=1.0.0 in /usr/local/lib/python3.12/dist-packages (from langsmith>=0.3.45->langchain-core<1.0.0,>=0.3.72->langchain-groq==0.3.7) (1.0.0)\n",
            "Requirement already satisfied: requests>=2.0.0 in /usr/local/lib/python3.12/dist-packages (from langsmith>=0.3.45->langchain-core<1.0.0,>=0.3.72->langchain-groq==0.3.7) (2.32.4)\n",
            "Requirement already satisfied: zstandard>=0.23.0 in /usr/local/lib/python3.12/dist-packages (from langsmith>=0.3.45->langchain-core<1.0.0,>=0.3.72->langchain-groq==0.3.7) (0.24.0)\n",
            "Requirement already satisfied: annotated-types>=0.6.0 in /usr/local/lib/python3.12/dist-packages (from pydantic<3,>=1.9.0->groq<1,>=0.30.0->langchain-groq==0.3.7) (0.7.0)\n",
            "Requirement already satisfied: pydantic-core==2.33.2 in /usr/local/lib/python3.12/dist-packages (from pydantic<3,>=1.9.0->groq<1,>=0.30.0->langchain-groq==0.3.7) (2.33.2)\n",
            "Requirement already satisfied: typing-inspection>=0.4.0 in /usr/local/lib/python3.12/dist-packages (from pydantic<3,>=1.9.0->groq<1,>=0.30.0->langchain-groq==0.3.7) (0.4.1)\n",
            "Requirement already satisfied: charset_normalizer<4,>=2 in /usr/local/lib/python3.12/dist-packages (from requests>=2.0.0->langsmith>=0.3.45->langchain-core<1.0.0,>=0.3.72->langchain-groq==0.3.7) (3.4.3)\n",
            "Requirement already satisfied: urllib3<3,>=1.21.1 in /usr/local/lib/python3.12/dist-packages (from requests>=2.0.0->langsmith>=0.3.45->langchain-core<1.0.0,>=0.3.72->langchain-groq==0.3.7) (2.5.0)\n",
            "Downloading langchain_groq-0.3.7-py3-none-any.whl (16 kB)\n",
            "Installing collected packages: langchain-groq\n",
            "Successfully installed langchain-groq-0.3.7\n"
          ]
        }
      ]
    },
    {
      "cell_type": "code",
      "source": [
        "from langchain_groq import ChatGroq"
      ],
      "metadata": {
        "id": "RhEoHFbTnreD"
      },
      "execution_count": null,
      "outputs": []
    },
    {
      "cell_type": "code",
      "source": [
        "llm = ChatGroq(\n",
        "    model = \"llama-3.1-8b-instant\",\n",
        "    temperature = 0\n",
        ")"
      ],
      "metadata": {
        "id": "oNDbs2dPn3Ab"
      },
      "execution_count": null,
      "outputs": []
    },
    {
      "cell_type": "code",
      "source": [
        "response = llm.invoke(\"Give me the first 20 terms of fibonacci series\")"
      ],
      "metadata": {
        "id": "owpkOdxUoHe3"
      },
      "execution_count": null,
      "outputs": []
    },
    {
      "cell_type": "code",
      "source": [
        "response"
      ],
      "metadata": {
        "colab": {
          "base_uri": "https://localhost:8080/"
        },
        "id": "yiHzhfXQoR3y",
        "outputId": "c2af3ae7-473a-446a-e996-a3e45fedb069"
      },
      "execution_count": null,
      "outputs": [
        {
          "output_type": "execute_result",
          "data": {
            "text/plain": [
              "AIMessage(content='The Fibonacci series is a series of numbers in which each number is the sum of the two preceding ones, usually starting with 0 and 1. Here are the first 20 terms of the Fibonacci series:\\n\\n1. 0\\n2. 1\\n3. 1\\n4. 2\\n5. 3\\n6. 5\\n7. 8\\n8. 13\\n9. 21\\n10. 34\\n11. 55\\n12. 89\\n13. 144\\n14. 233\\n15. 377\\n16. 610\\n17. 985\\n18. 1597\\n19. 2584\\n20. 4181', additional_kwargs={}, response_metadata={'token_usage': {'completion_tokens': 145, 'prompt_tokens': 45, 'total_tokens': 190, 'completion_time': 0.118111373, 'prompt_time': 0.005962365, 'queue_time': 0.207880089, 'total_time': 0.124073738}, 'model_name': 'llama-3.1-8b-instant', 'system_fingerprint': 'fp_7083106d2c', 'service_tier': 'on_demand', 'finish_reason': 'stop', 'logprobs': None}, id='run--07deeb03-b2ba-4012-b81f-5c2fbc03787d-0', usage_metadata={'input_tokens': 45, 'output_tokens': 145, 'total_tokens': 190})"
            ]
          },
          "metadata": {},
          "execution_count": 14
        }
      ]
    },
    {
      "cell_type": "code",
      "source": [
        "output = response.content\n",
        "print(output)"
      ],
      "metadata": {
        "colab": {
          "base_uri": "https://localhost:8080/"
        },
        "id": "a5lMds48oTzp",
        "outputId": "c46ce699-9892-422c-da30-3408df0d9fd3"
      },
      "execution_count": null,
      "outputs": [
        {
          "output_type": "stream",
          "name": "stdout",
          "text": [
            "The Fibonacci series is a series of numbers in which each number is the sum of the two preceding ones, usually starting with 0 and 1. Here are the first 20 terms of the Fibonacci series:\n",
            "\n",
            "1. 0\n",
            "2. 1\n",
            "3. 1\n",
            "4. 2\n",
            "5. 3\n",
            "6. 5\n",
            "7. 8\n",
            "8. 13\n",
            "9. 21\n",
            "10. 34\n",
            "11. 55\n",
            "12. 89\n",
            "13. 144\n",
            "14. 233\n",
            "15. 377\n",
            "16. 610\n",
            "17. 985\n",
            "18. 1597\n",
            "19. 2584\n",
            "20. 4181\n"
          ]
        }
      ]
    },
    {
      "cell_type": "code",
      "source": [],
      "metadata": {
        "id": "UOuINsIroZlj"
      },
      "execution_count": null,
      "outputs": []
    }
  ]
}